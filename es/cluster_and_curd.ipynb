{
 "cells": [
  {
   "cell_type": "markdown",
   "metadata": {},
   "source": [
    "# install\n",
    "./bin/plugin -i elasticsearch/marvel/latest\n",
    "\n"
   ]
  },
  {
   "cell_type": "markdown",
   "metadata": {},
   "source": [
    "#  监控和restful\n",
    "http://123.59.42.158:19200/_plugin/marvel/sense/index.html\n",
    "https://ip:9200/_plugin/marvel/sense/index.html\n",
    "https://ip:9200/_plugin/bigdesk\n",
    "\n",
    "# 分词器安装\n",
    "git clone https://github.com/NLPchina/elasticsearch-analysis-ansj\n",
    "\n",
    "\n",
    "# 数据同步\n",
    "yum install npm\n",
    "npm install -g elasticsearch-tools\n",
    "npm install elasticdump -g\n",
    "\n",
    "\n",
    "es-export-mappings --url http://10.9.152.29:9200 --index smzdm_article_index_v9 --file /data/guoqiang/smzdm_article_index_v9_mapping.json\n",
    "es-import-mappings --url http://10.9.107.19:9200 --file /data/guoqiang/smzdm_article_index_v9_mapping.json\n",
    "\n",
    "\n",
    "elasticdump --input=http://10.9.152.29:9200/smzdm_article_index_v9 --output=http://10.9.107.19:9200/smzdm_article_index_v9 --type=data\n",
    "\n",
    "es-export-bulk --url http://172.16.12.53:9200 --index user_index --file ~/user.bulk.json --body '{\"query\":{\"range\":{\"loginTime\":{\"gte\":\"2017-02-28T00:00:00.000Z\",\"lte\":\"2017-03-01T00:00:00.000Z\"}}}}'\n",
    "\n",
    "es-import-bulk --url http://192.168.22.189:9200 --file ~/user.bulk.json\n",
    "\n",
    "\n",
    "\n",
    "\n",
    "# 索引操作\n",
    "\n",
    "```sh\n",
    "# 获取索引初始化配置\n",
    "curl -XGET 'http://localhost:9200/article_index_v9/_settings?pretty'\n",
    "\n",
    "# 获取某个索引的mapping\n",
    "curl -XGET 'http://localhost:9200/article_index_v9/_mapping?pretty'\n",
    "\n",
    "# 创建索引\n",
    "curl -XPOST 'http://localhost:9200/article_index_test?pretty' -d @/data/tmp/index_test.mapping\n",
    "\n",
    "# \n",
    "\n",
    "```\n",
    "\n",
    "\n",
    "\n",
    "# 查询\n",
    "## 基本查询\n",
    "\n",
    "\n",
    "## 过滤\n",
    "\n",
    "\n",
    "## 组合查询"
   ]
  }
 ],
 "metadata": {
  "kernelspec": {
   "display_name": "Python 2",
   "language": "python",
   "name": "python2"
  },
  "language_info": {
   "codemirror_mode": {
    "name": "ipython",
    "version": 2
   },
   "file_extension": ".py",
   "mimetype": "text/x-python",
   "name": "python",
   "nbconvert_exporter": "python",
   "pygments_lexer": "ipython2",
   "version": "2.7.10"
  }
 },
 "nbformat": 4,
 "nbformat_minor": 2
}
