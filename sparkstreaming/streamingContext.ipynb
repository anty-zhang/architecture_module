


https://blog.csdn.net/feloxx/article/details/70789000 (spark direct方式计算手动控制kafka偏移度)

http://lxw1234.com/archives/2018/02/901.htm (实时流计算、Spark Streaming、Kafka、Redis、Exactly-once、实时去重)

https://www.jianshu.com/p/a0c38dc46b89  (搭建Spark所遇过的坑)

http://blog.selfup.cn/1837.html (kafka无限重连)

https://blog.csdn.net/ukakasu/article/details/80067068 (spark-streaming多目录追加写)

https://blog.csdn.net/qq_19917081/article/details/56841299 (spark streaming 实现根据文件内容自定义文件名，并实现文件内容追加)
