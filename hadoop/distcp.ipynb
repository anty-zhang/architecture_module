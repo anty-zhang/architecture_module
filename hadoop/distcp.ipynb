{
 "cells": [
  {
   "cell_type": "markdown",
   "metadata": {},
   "source": [
    "# hadoop distcp\n",
    "\n",
    "```bash\n",
    "\n",
    "# 第一个集群中复制/foo目录（和它的内容）到第二个集群中的/bar目录下，\n",
    "# 所以第二个集群会有/bar/foo目录结构。如果/bar不存在，则会新建一个。\n",
    "hadoop distcp hdfs://namenode1/foo hdfs://namenode2/bar \n",
    "\n",
    "\n",
    "hadoop distcp -update hdfs://namenode1/foo hdfs://namenode2/bar/foo \n",
    "\n",
    "```\n",
    "\n",
    "\n",
    "参考网址\n",
    "\n",
    "> https://hadoop.apache.org/docs/r1.0.4/cn/distcp.html\n",
    "\n",
    "> http://blog.csdn.net/androidlushangderen/article/details/51044692"
   ]
  }
 ],
 "metadata": {
  "kernelspec": {
   "display_name": "Python 2",
   "language": "python",
   "name": "python2"
  },
  "language_info": {
   "codemirror_mode": {
    "name": "ipython",
    "version": 2
   },
   "file_extension": ".py",
   "mimetype": "text/x-python",
   "name": "python",
   "nbconvert_exporter": "python",
   "pygments_lexer": "ipython2",
   "version": "2.7.10"
  }
 },
 "nbformat": 4,
 "nbformat_minor": 0
}
