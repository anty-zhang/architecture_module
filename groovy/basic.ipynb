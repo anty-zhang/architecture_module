{
 "cells": [
  {
   "cell_type": "markdown",
   "metadata": {},
   "source": [
    "# groovy 时间处理\n",
    "\n",
    "```sh\n",
    "# http://mrhaki.blogspot.com/2009/09/groovy-goodness-date-and-time-durations.html\n",
    "\n",
    "import groovy.time.*\n",
    " \n",
    "// Define period of 2 years, 3 months, 15 days, 0 hours, 23 minutes, 2 seconds and 0 milliseconds.\n",
    "def period = new DatumDependentDuration(2, 3, 15, 0, 23, 2, 0)\n",
    "assert '2 years, 3 months, 15 days, 23 minutes, 2.000 seconds' == period.toString()\n",
    "def year2000 = new Date(100, 0, 0)  // Jan 1, 2000\n",
    "assert 'Mon Apr 15 00:23:02 UTC 2002' == (period + year2000).toString()\n",
    " \n",
    "// Define time period of 5 hours, 54 minutes and 30 milliseconds.\n",
    "def time = new TimeDuration(5, 54, 0, 30)\n",
    "assert '5 hours, 54 minutes, 0.030 seconds' == time.toString()\n",
    " \n",
    "use (TimeCategory) {\n",
    "    assert period.toString() == (2.years + 3.months + 15.days + 0.hour + 23.minutes + 2.seconds).toString()\n",
    "    assert time.toString() == (5.hours + 54.minutes + 30.milliseconds).toString()\n",
    " \n",
    "    // We can use period.from.now syntax.   \n",
    "    def d1 = 1.week - 1.day\n",
    "    def d2 = new Date() + 6.days\n",
    "    assert d2.format('yyyy-MM-dd') == d1.from.now.format('yyyy-MM-dd')\n",
    "    assert d2.clearTime() == d1.from.now\n",
    "     \n",
    "    // We can use period.ago syntax.\n",
    "    def d3 = 3.days.ago\n",
    "    def d4 = new Date() - 3\n",
    "    assert d4.format('yyyy-MM-dd') == d3.format('yyyy-MM-dd HH:mm:ss')\n",
    "    assert d4.clearTime() == d3\n",
    "}\n",
    "\n",
    "\n",
    "```\n",
    "\n",
    "\n",
    "\n",
    "\n",
    "# groovy 学习资料\n",
    "\n",
    "http://www.tutorialspoint.com/groovy/\n"
   ]
  }
 ],
 "metadata": {
  "kernelspec": {
   "display_name": "Python 2",
   "language": "python",
   "name": "python2"
  },
  "language_info": {
   "codemirror_mode": {
    "name": "ipython",
    "version": 2
   },
   "file_extension": ".py",
   "mimetype": "text/x-python",
   "name": "python",
   "nbconvert_exporter": "python",
   "pygments_lexer": "ipython2",
   "version": "2.7.10"
  }
 },
 "nbformat": 4,
 "nbformat_minor": 2
}
